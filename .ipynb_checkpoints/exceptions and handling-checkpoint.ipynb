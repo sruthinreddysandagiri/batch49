{
 "cells": [
  {
   "cell_type": "code",
   "execution_count": 8,
   "metadata": {},
   "outputs": [
    {
     "name": "stdout",
     "output_type": "stream",
     "text": [
      "enter 1st input from user: 'n'\n",
      "enter 2nd input from user : 'm'\n",
      "ip1 = n\n",
      "ip2 = m\n",
      "there is some error\n",
      "end of program\n",
      "thank you\n"
     ]
    }
   ],
   "source": [
    "ip1= input(\"enter 1st input from user: \")\n",
    "ip2= input(\"enter 2nd input from user : \")\n",
    "print \"ip1 =\", ip1\n",
    "print \"ip2 =\",ip2\n",
    "try:\n",
    "    res= ip1 * ip2 >= 25\n",
    "    print res\n",
    "except:\n",
    "    print (\"there is some error\")\n",
    "print (\"end of program\")\n",
    "print (\"thank you\")"
   ]
  },
  {
   "cell_type": "code",
   "execution_count": 9,
   "metadata": {},
   "outputs": [
    {
     "name": "stdout",
     "output_type": "stream",
     "text": [
      "take input from user :'hi how are you'\n",
      "sub string not found\n",
      "end\n"
     ]
    }
   ],
   "source": [
    "act = \"python is a pure object oriented language\" \n",
    "ip = input(\"take input from user :\")\n",
    "try:\n",
    "    print act.index(ip)\n",
    "except:\n",
    "    print \"sub string not found\"\n",
    "print \"end\""
   ]
  },
  {
   "cell_type": "code",
   "execution_count": 11,
   "metadata": {},
   "outputs": [
    {
     "name": "stdout",
     "output_type": "stream",
     "text": [
      "enter 1st input from user: 'np'\n",
      "enter 2nd input from user : 'fd'\n",
      "ip1 = np\n",
      "ip2 = fd\n",
      "can't multiply sequence by non-int of type 'str'\n",
      "end of program\n",
      "thank you\n"
     ]
    }
   ],
   "source": [
    "ip1= input(\"enter 1st input from user: \")\n",
    "ip2= input(\"enter 2nd input from user : \")\n",
    "print \"ip1 =\", ip1\n",
    "print \"ip2 =\",ip2\n",
    "try:\n",
    "    res= ip1 * ip2 >= 25\n",
    "    print res\n",
    "except Exception as err:\n",
    "    print err\n",
    "print (\"end of program\")\n",
    "print (\"thank you\")"
   ]
  },
  {
   "cell_type": "code",
   "execution_count": 12,
   "metadata": {},
   "outputs": [
    {
     "name": "stdout",
     "output_type": "stream",
     "text": [
      "try\n"
     ]
    }
   ],
   "source": [
    "try:\n",
    "    print 'try'\n",
    "except:\n",
    "    print 1/0"
   ]
  },
  {
   "cell_type": "code",
   "execution_count": 14,
   "metadata": {},
   "outputs": [
    {
     "name": "stdout",
     "output_type": "stream",
     "text": [
      "try\n"
     ]
    },
    {
     "ename": "ZeroDivisionError",
     "evalue": "integer division or modulo by zero",
     "output_type": "error",
     "traceback": [
      "\u001b[1;31m---------------------------------------------------------------------------\u001b[0m",
      "\u001b[1;31mZeroDivisionError\u001b[0m                         Traceback (most recent call last)",
      "\u001b[1;32m<ipython-input-14-bf1508821f63>\u001b[0m in \u001b[0;36m<module>\u001b[1;34m()\u001b[0m\n\u001b[0;32m      3\u001b[0m     \u001b[1;32mprint\u001b[0m \u001b[1;34m\"werve\"\u001b[0m\u001b[1;33m/\u001b[0m \u001b[1;34m\"uhsja\"\u001b[0m\u001b[1;33m\u001b[0m\u001b[0m\n\u001b[0;32m      4\u001b[0m \u001b[1;32mexcept\u001b[0m\u001b[1;33m:\u001b[0m\u001b[1;33m\u001b[0m\u001b[0m\n\u001b[1;32m----> 5\u001b[1;33m     \u001b[1;32mprint\u001b[0m \u001b[1;36m1\u001b[0m\u001b[1;33m/\u001b[0m\u001b[1;36m0\u001b[0m\u001b[1;33m\u001b[0m\u001b[0m\n\u001b[0m\u001b[0;32m      6\u001b[0m \u001b[1;32mprint\u001b[0m \u001b[1;34m\"thankyou\"\u001b[0m\u001b[1;33m\u001b[0m\u001b[0m\n",
      "\u001b[1;31mZeroDivisionError\u001b[0m: integer division or modulo by zero"
     ]
    }
   ],
   "source": [
    "try:\n",
    "    print 'try'\n",
    "    print \"werve\"/ \"uhsja\"\n",
    "except:\n",
    "    print 1/0\n",
    "print \"thankyou\""
   ]
  },
  {
   "cell_type": "code",
   "execution_count": null,
   "metadata": {},
   "outputs": [],
   "source": []
  }
 ],
 "metadata": {
  "kernelspec": {
   "display_name": "Python 2",
   "language": "python",
   "name": "python2"
  },
  "language_info": {
   "codemirror_mode": {
    "name": "ipython",
    "version": 2
   },
   "file_extension": ".py",
   "mimetype": "text/x-python",
   "name": "python",
   "nbconvert_exporter": "python",
   "pygments_lexer": "ipython2",
   "version": "2.7.15"
  }
 },
 "nbformat": 4,
 "nbformat_minor": 2
}
