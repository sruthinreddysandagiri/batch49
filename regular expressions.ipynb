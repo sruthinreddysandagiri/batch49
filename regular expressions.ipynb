{
 "cells": [
  {
   "cell_type": "code",
   "execution_count": 5,
   "metadata": {},
   "outputs": [
    {
     "ename": "SyntaxError",
     "evalue": "EOL while scanning string literal (<ipython-input-5-f528976466d3>, line 1)",
     "output_type": "error",
     "traceback": [
      "\u001b[1;36m  File \u001b[1;32m\"<ipython-input-5-f528976466d3>\"\u001b[1;36m, line \u001b[1;32m1\u001b[0m\n\u001b[1;33m    data = \"1.anil kumar, 9494717150 , anilkumar@gmail.com /n\u001b[0m\n\u001b[1;37m                                                            ^\u001b[0m\n\u001b[1;31mSyntaxError\u001b[0m\u001b[1;31m:\u001b[0m EOL while scanning string literal\n"
     ]
    }
   ],
   "source": [
    "data = \"1.anil kumar, 9494717150 , anilkumar@gmail.com /n\n",
    "2.anil kumar, 9494717150 , anilkumar@gmail.com\"\n",
    "    "
   ]
  },
  {
   "cell_type": "code",
   "execution_count": 13,
   "metadata": {},
   "outputs": [
    {
     "name": "stdout",
     "output_type": "stream",
     "text": [
      "['9494717150', '9000824009', '9579829821']\n"
     ]
    }
   ],
   "source": [
    "import re\n",
    "data = \" 9494717150, 1, sruthin , sruthin@gmail.com \\n\\\n",
    "9000824009, 2, teja, teja@gmail.com \\n\\\n",
    "9579829821, 3, reddy, reddy@gmail.com\"\n",
    "print re.findall(\"[0-9]{10}\", data)"
   ]
  },
  {
   "cell_type": "code",
   "execution_count": 14,
   "metadata": {},
   "outputs": [
    {
     "name": "stdout",
     "output_type": "stream",
     "text": [
      "['9', '4', '9', '4', '7', '1', '7', '1', '5', '0', '1', '9', '0', '0', '0', '8', '2', '4', '0', '0', '9', '2', '9', '5', '7', '9', '8', '2', '9', '8', '2', '1', '3']\n"
     ]
    }
   ],
   "source": [
    "import re\n",
    "data = \" 9494717150, 1, sruthin , sruthin@gmail.com \\n\\\n",
    "9000824009, 2, teja, teja@gmail.com \\n\\\n",
    "9579829821, 3, reddy, reddy@gmail.com\"\n",
    "print re.findall(\"[0-9]\", data)\n"
   ]
  },
  {
   "cell_type": "code",
   "execution_count": 15,
   "metadata": {},
   "outputs": [
    {
     "name": "stdout",
     "output_type": "stream",
     "text": [
      "['s', 'r', 'u', 'G', 'h', 'i', 'n', 's', 'r', 'u', 't', 'h', 'I', 'n', 'g', 'm', 'a', 'i', 'l', 'c', 'o', 'm', 't', 'e', 'j', 'a', 't', 'e', 'j', 'a', 'G', 'm', 'a', 'i', 'l', 'c', 'o', 'm', 'T', 'e', 'd', 'd', 'y', 'r', 'e', 'd', 'd', 'y', 'g', 'm', 'a', 'i', 'l', 'c', 'o', 'm']\n"
     ]
    }
   ],
   "source": [
    "import re\n",
    "data = \" 9494717150, 1, sruGhin , sruthIn@gmail.com \\n\\\n",
    "9000824009, 2, teja, teja@Gmail.com \\n\\\n",
    "9579829821, 3, Teddy, reddy@gmail.com\"\n",
    "print re.findall(\"[a-z]\", data, re.I)\n"
   ]
  },
  {
   "cell_type": "code",
   "execution_count": 16,
   "metadata": {},
   "outputs": [
    {
     "name": "stdout",
     "output_type": "stream",
     "text": [
      "['h8', 'a2', 'y1']\n"
     ]
    }
   ],
   "source": [
    "import re\n",
    "data = \" 9494717150, 1, sruGh88in , sruthIn@gmail.com \\n\\\n",
    "9000824009, 2, teja, teja234@Gmail.com \\n\\\n",
    "9579829821, 3, Teddy, reddy1234@gmail.com\"\n",
    "print re.findall(\"[a-z][0-9]\", data, re.I)\n"
   ]
  },
  {
   "cell_type": "code",
   "execution_count": 17,
   "metadata": {},
   "outputs": [
    {
     "name": "stdout",
     "output_type": "stream",
     "text": [
      "[' ', ',', ' ', ',', ' ', 's', 'r', 'u', 'G', 'h', 'i', 'n', ' ', ',', ' ', 's', 'r', 'u', 't', 'h', 'I', 'n', '@', 'g', 'm', 'a', 'i', 'l', '.', 'c', 'o', 'm', ' ', '\\n', ',', ' ', ',', ' ', 't', 'e', 'j', 'a', ',', ' ', 't', 'e', 'j', 'a', '@', 'G', 'm', 'a', 'i', 'l', '.', 'c', 'o', 'm', ' ', '\\n', ',', ' ', ',', ' ', 'T', 'e', 'd', 'd', 'y', ',', ' ', 'r', 'e', 'd', 'd', 'y', '@', 'g', 'm', 'a', 'i', 'l', '.', 'c', 'o', 'm']\n"
     ]
    }
   ],
   "source": [
    "import re\n",
    "data = \" 9494717150, 1, sruGh88in , sruthIn@gmail.com \\n\\\n",
    "9000824009, 2, teja, teja234@Gmail.com \\n\\\n",
    "9579829821, 3, Teddy, reddy1234@gmail.com\"\n",
    "print re.findall(\"[^0-9]\", data, re.I)\n"
   ]
  },
  {
   "cell_type": "code",
   "execution_count": 19,
   "metadata": {},
   "outputs": [
    {
     "name": "stdout",
     "output_type": "stream",
     "text": [
      "[]\n"
     ]
    }
   ],
   "source": [
    "import re\n",
    "data = \" 9494717150, 1, sruGh88in , sruthIn@gmail.com \\n\\\n",
    "9000824009, 2, teja, teja234@Gmail.com \\n\\\n",
    "9579829821, 3, Teddy, reddy1234@gmail.com\"\n",
    "print re.findall(\"^[0-9]\", data, re.I)\n"
   ]
  },
  {
   "cell_type": "code",
   "execution_count": 20,
   "metadata": {},
   "outputs": [
    {
     "name": "stdout",
     "output_type": "stream",
     "text": [
      "['9']\n"
     ]
    }
   ],
   "source": [
    "import re\n",
    "data = \"9494717150, 1, sruGh88in , sruthIn@gmail.com \\n\\\n",
    "9000824009, 2, teja, teja234@Gmail.com \\n\\\n",
    "9579829821, 3, Teddy, reddy1234@gmail.com\"\n",
    "print re.findall(\"^[0-9]\", data, re.I)\n"
   ]
  },
  {
   "cell_type": "code",
   "execution_count": 21,
   "metadata": {},
   "outputs": [
    {
     "name": "stdout",
     "output_type": "stream",
     "text": [
      "[]\n"
     ]
    }
   ],
   "source": [
    "import re\n",
    "data = \"9494717150, 1, sruGh88in , sruthIn@gmail.com \\n\\\n",
    "9000824009, 2, teja, teja234@Gmail.com \\n\\\n",
    "9579829821, 3, Teddy, reddy1234@gmail.com\"\n",
    "print re.findall(\"[0-9]$\", data, re.I)"
   ]
  },
  {
   "cell_type": "code",
   "execution_count": 22,
   "metadata": {},
   "outputs": [
    {
     "name": "stdout",
     "output_type": "stream",
     "text": [
      "['m']\n"
     ]
    }
   ],
   "source": [
    "import re\n",
    "data = \"9494717150, 1, sruGh88in , sruthIn@gmail.com \\n\\\n",
    "9000824009, 2, teja, teja234@Gmail.com \\n\\\n",
    "9579829821, 3, Teddy, reddy1234@gmail.com\"\n",
    "print re.findall(\"[a-z]$\", data, re.I)"
   ]
  },
  {
   "cell_type": "code",
   "execution_count": 23,
   "metadata": {},
   "outputs": [
    {
     "name": "stdout",
     "output_type": "stream",
     "text": [
      "['m']\n"
     ]
    }
   ],
   "source": [
    "import re\n",
    "data = \"9494717150, 1, sruGh88in , sruthIn@gmail.com \\n\\\n",
    "9000824009, 2, teja, teja234@Gmail.com \\n\\\n",
    "9579829821, 3, Teddy, reddy1234@gmail.com\"\n",
    "print re.findall(\"[a-z]$\", data, re.I|re.M)"
   ]
  },
  {
   "cell_type": "code",
   "execution_count": 24,
   "metadata": {},
   "outputs": [
    {
     "name": "stdout",
     "output_type": "stream",
     "text": [
      "[]\n"
     ]
    }
   ],
   "source": [
    "import re\n",
    "data = \"9494717150, 1, sruGh88in , sruthIn@gmail.com \\n\\\n",
    "9000824009, 2, teja, teja234@Gmail.com \\n\\\n",
    "9579829821, 3, Teddy, reddy1234@gmail.com\"\n",
    "print re.findall(\"^[a-z]\", data, re.I|re.M)"
   ]
  },
  {
   "cell_type": "code",
   "execution_count": 26,
   "metadata": {},
   "outputs": [
    {
     "name": "stdout",
     "output_type": "stream",
     "text": [
      "['9494', '7171', '9000', '8240', '9579', '8298', '1234']\n"
     ]
    }
   ],
   "source": [
    "import re\n",
    "data = \"9494717150, 1, sruGh88in , sruthIn@gmail.com \\n\\\n",
    "9000824009, 2, teja, teja234@Gmail.com \\n\\\n",
    "9579829821, 3, Teddy, reddy1234@gmail.com\"\n",
    "print re.findall(\"[0-9]{4}\", data, re.I|re.M)"
   ]
  },
  {
   "cell_type": "code",
   "execution_count": 27,
   "metadata": {},
   "outputs": [
    {
     "name": "stdout",
     "output_type": "stream",
     "text": [
      "['9494', '7171', '50', '1', '88', '9000', '8240', '09', '2', '234', '9579', '8298', '21', '3', '1234']\n"
     ]
    }
   ],
   "source": [
    "import re\n",
    "data = \"9494717150, 1, sruGh88in , sruthIn@gmail.com \\n\\\n",
    "9000824009, 2, teja, teja234@Gmail.com \\n\\\n",
    "9579829821, 3, Teddy, reddy1234@gmail.com\"\n",
    "print re.findall(\"[0-9]{1,4}\", data, re.I|re.M)"
   ]
  },
  {
   "cell_type": "code",
   "execution_count": 28,
   "metadata": {},
   "outputs": [
    {
     "name": "stdout",
     "output_type": "stream",
     "text": [
      "['9494717150', '1', '88', '9000824009', '2', '234', '9579829821', '3', '1234']\n"
     ]
    }
   ],
   "source": [
    "import re\n",
    "data = \"9494717150, 1, sruGh88in , sruthIn@gmail.com \\n\\\n",
    "9000824009, 2, teja, teja234@Gmail.com \\n\\\n",
    "9579829821, 3, Teddy, reddy1234@gmail.com\"\n",
    "print re.findall(\"[0-9]{1,10}\", data, re.I|re.M)"
   ]
  },
  {
   "cell_type": "code",
   "execution_count": 29,
   "metadata": {},
   "outputs": [
    {
     "name": "stdout",
     "output_type": "stream",
     "text": [
      "['9494717150', '', '', '1', '', '', '', '', '', '', '', '88', '', '', '', '', '', '', '', '', '', '', '', '', '', '', '', '', '', '', '', '', '', '', '', '', '9000824009', '', '', '2', '', '', '', '', '', '', '', '', '', '', '', '', '234', '', '', '', '', '', '', '', '', '', '', '', '', '9579829821', '', '', '3', '', '', '', '', '', '', '', '', '', '', '', '', '', '', '1234', '', '', '', '', '', '', '', '', '', '', '']\n"
     ]
    }
   ],
   "source": [
    "import re\n",
    "data = \"9494717150, 1, sruGh88in , sruthIn@gmail.com \\n\\\n",
    "9000824009, 2, teja, teja234@Gmail.com \\n\\\n",
    "9579829821, 3, Teddy, reddy1234@gmail.com\"\n",
    "print re.findall(\"[0-9]{0,10}\", data, re.I|re.M)"
   ]
  },
  {
   "cell_type": "code",
   "execution_count": 30,
   "metadata": {},
   "outputs": [
    {
     "name": "stdout",
     "output_type": "stream",
     "text": [
      "['9494717150', '1', '88', '9000824009', '2', '234', '9579829821', '3', '1234']\n",
      "['9494717150', '', '', '1', '', '', '', '', '', '', '', '88', '', '', '', '', '', '', '', '', '', '', '', '', '', '', '', '', '', '', '', '', '', '', '', '', '9000824009', '', '', '2', '', '', '', '', '', '', '', '', '', '', '', '', '234', '', '', '', '', '', '', '', '', '', '', '', '', '9579829821', '', '', '3', '', '', '', '', '', '', '', '', '', '', '', '', '', '', '1234', '', '', '', '', '', '', '', '', '', '', '']\n"
     ]
    }
   ],
   "source": [
    "import re\n",
    "data = \"9494717150, 1, sruGh88in , sruthIn@gmail.com \\n\\\n",
    "9000824009, 2, teja, teja234@Gmail.com \\n\\\n",
    "9579829821, 3, Teddy, reddy1234@gmail.com\"\n",
    "print re.findall(\"[0-9]{1,}\", data, re.I|re.M)\n",
    "print re.findall(\"[0-9]*\", data, re.I|re.M)"
   ]
  },
  {
   "cell_type": "code",
   "execution_count": 31,
   "metadata": {},
   "outputs": [
    {
     "name": "stdout",
     "output_type": "stream",
     "text": [
      "['9494717150', '1', '88', '9000824009', '2', '234', '9579829821', '3', '1234']\n",
      "['9494717150', '1', '88', '9000824009', '2', '234', '9579829821', '3', '1234']\n"
     ]
    }
   ],
   "source": [
    "import re\n",
    "data = \"9494717150, 1, sruGh88in , sruthIn@gmail.com \\n\\\n",
    "9000824009, 2, teja, teja234@Gmail.com \\n\\\n",
    "9579829821, 3, Teddy, reddy1234@gmail.com\"\n",
    "print re.findall(\"[0-9]{1,}\", data, re.I|re.M)\n",
    "print re.findall(\"[0-9]+\", data, re.I|re.M)"
   ]
  },
  {
   "cell_type": "code",
   "execution_count": 33,
   "metadata": {},
   "outputs": [
    {
     "name": "stdout",
     "output_type": "stream",
     "text": [
      "['9', '4', '9', '4', '7', '1', '7', '1', '5', '0', ',', ' ', '1', ',', ' ', 's', 'r', 'u', 'G', 'h', '8', '8', 'i', 'n', ' ', ',', ' ', 's', 'r', 'u', 't', 'h', 'I', 'n', '@', 'g', 'm', 'a', 'i', 'l', '.', 'c', 'o', 'm', ' ', '\\n', '9', '0', '0', '0', '8', '2', '4', '0', '0', '9', ',', ' ', '2', ',', ' ', 't', 'e', 'j', 'a', ',', ' ', 't', 'e', 'j', 'a', '2', '3', '4', '@', 'G', 'm', 'a', 'i', 'l', '.', 'c', 'o', 'm', ' ', '\\n', '9', '5', '7', '9', '8', '2', '9', '8', '2', '1', ',', ' ', '3', ',', ' ', 'T', 'e', 'd', 'd', 'y', ',', ' ', 'r', 'e', 'd', 'd', 'y', '1', '2', '3', '4', '@', 'g', 'm', 'a', 'i', 'l', '.', 'c', 'o', 'm']\n"
     ]
    }
   ],
   "source": [
    "import re\n",
    "data = \"9494717150, 1, sruGh88in , sruthIn@gmail.com \\n\\\n",
    "9000824009, 2, teja, teja234@Gmail.com \\n\\\n",
    "9579829821, 3, Teddy, reddy1234@gmail.com\"\n",
    "print re.findall(\".\", data, re.I|re.M|re.DOTALL)"
   ]
  },
  {
   "cell_type": "code",
   "execution_count": 34,
   "metadata": {},
   "outputs": [
    {
     "name": "stdout",
     "output_type": "stream",
     "text": [
      "['.', '.', '.']\n"
     ]
    }
   ],
   "source": [
    "import re\n",
    "data = \"9494717150, 1, sruGh88in , sruthIn@gmail.com \\n\\\n",
    "9000824009, 2, teja, teja234@Gmail.com \\n\\\n",
    "9579829821, 3, Teddy, reddy1234@gmail.com\"\n",
    "print re.findall(\"\\.\", data, re.I|re.M|re.DOTALL)"
   ]
  },
  {
   "cell_type": "code",
   "execution_count": 35,
   "metadata": {},
   "outputs": [
    {
     "name": "stdout",
     "output_type": "stream",
     "text": [
      "['.', '.', '.']\n"
     ]
    }
   ],
   "source": [
    "import re\n",
    "data = \"9494717150, 1, sruGh88in , sruthIn@gmail.com \\n\\\n",
    "9000824009, 2, teja, teja234@Gmail.de \\n\\\n",
    "9579829821, 3, Teddy, reddy1234@gmail.com\"\n",
    "print re.findall(\"[.]\", data, re.I|re.M|re.DOTALL)"
   ]
  },
  {
   "cell_type": "code",
   "execution_count": 40,
   "metadata": {},
   "outputs": [
    {
     "name": "stdout",
     "output_type": "stream",
     "text": [
      "['9494717150', '9000824009', '9579829821', '08462-234685']\n"
     ]
    }
   ],
   "source": [
    "import re\n",
    "data = \"9494717150, 1, sruGh88in , sruthIn@gmail.com.in \\n\\\n",
    "9000824009, 2, teja, teja234@Gmail.com \\n\\\n",
    "9579829821, 3, Teddy, reddy1234@gmail.com, 08462-234685\"\n",
    "print re.findall(\"[0-9-]{10,15}\",data,re.I)"
   ]
  },
  {
   "cell_type": "code",
   "execution_count": null,
   "metadata": {},
   "outputs": [],
   "source": [
    "import re\n",
    "data = \"9494717150, 1, sruGh88in , sruthIn@gmail.com.in \\n\\\n",
    "9000824009, 2, teja, teja234@Gmail.com \\n\\\n",
    "9579829821, 3, Teddy, reddy1234@gmail.com, 08462-234685\"\n",
    "print re.findall(\"[a-z0-9]+@[a-z]+\\.+\",data,re.I)"
   ]
  }
 ],
 "metadata": {
  "kernelspec": {
   "display_name": "Python 2",
   "language": "python",
   "name": "python2"
  },
  "language_info": {
   "codemirror_mode": {
    "name": "ipython",
    "version": 2
   },
   "file_extension": ".py",
   "mimetype": "text/x-python",
   "name": "python",
   "nbconvert_exporter": "python",
   "pygments_lexer": "ipython2",
   "version": "2.7.15"
  }
 },
 "nbformat": 4,
 "nbformat_minor": 2
}
