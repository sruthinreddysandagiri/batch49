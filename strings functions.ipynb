{
 "cells": [
  {
   "cell_type": "code",
   "execution_count": 1,
   "metadata": {},
   "outputs": [
    {
     "data": {
      "text/plain": [
       "'Sruthin Reddy'"
      ]
     },
     "execution_count": 1,
     "metadata": {},
     "output_type": "execute_result"
    }
   ],
   "source": [
    "s='sruthin reddy'\n",
    "s.title()"
   ]
  },
  {
   "cell_type": "code",
   "execution_count": 2,
   "metadata": {},
   "outputs": [
    {
     "data": {
      "text/plain": [
       "'Sru4Hin Re4Dy'"
      ]
     },
     "execution_count": 2,
     "metadata": {},
     "output_type": "execute_result"
    }
   ],
   "source": [
    "s=\"sru4hin re4dy\"\n",
    "s.title()\n"
   ]
  },
  {
   "cell_type": "code",
   "execution_count": 3,
   "metadata": {},
   "outputs": [
    {
     "data": {
      "text/plain": [
       "False"
      ]
     },
     "execution_count": 3,
     "metadata": {},
     "output_type": "execute_result"
    }
   ],
   "source": [
    "s.istitle()"
   ]
  },
  {
   "cell_type": "code",
   "execution_count": 6,
   "metadata": {},
   "outputs": [],
   "source": [
    "s.istitle?"
   ]
  },
  {
   "cell_type": "code",
   "execution_count": 11,
   "metadata": {},
   "outputs": [
    {
     "name": "stdout",
     "output_type": "stream",
     "text": [
      "usa,america,sudan,germany\n"
     ]
    }
   ],
   "source": [
    "s=\"usa,america,sudan,germany\"\n",
    "l=s.split(\";\")\n",
    "for i in l:\n",
    "    print i"
   ]
  },
  {
   "cell_type": "code",
   "execution_count": 12,
   "metadata": {},
   "outputs": [
    {
     "name": "stdout",
     "output_type": "stream",
     "text": [
      "['hyd', 'sec', 'del', 'ban', 'kol']\n"
     ]
    }
   ],
   "source": [
    "s=\"hyd;sec;del;ban;kol\"\n",
    "l= s.split(';',-2)\n",
    "print l"
   ]
  },
  {
   "cell_type": "code",
   "execution_count": 13,
   "metadata": {},
   "outputs": [],
   "source": [
    "s.rsplit?\n"
   ]
  },
  {
   "cell_type": "code",
   "execution_count": 14,
   "metadata": {},
   "outputs": [
    {
     "name": "stdout",
     "output_type": "stream",
     "text": [
      "['hyd', 'sec', 'del;ban;kol']\n",
      "['hyd;sec;del', 'ban', 'kol']\n"
     ]
    }
   ],
   "source": [
    "s=\"hyd;sec;del;ban;kol\"\n",
    "print s.split(\";\", 2)\n",
    "print s.rsplit(\";\",2)"
   ]
  },
  {
   "cell_type": "code",
   "execution_count": 18,
   "metadata": {},
   "outputs": [
    {
     "data": {
      "text/plain": [
       "['hyd',\n",
       " 'bad',\n",
       " ';',\n",
       " 'sec',\n",
       " 'bad',\n",
       " ';',\n",
       " 'del',\n",
       " 'hi;',\n",
       " 'ban',\n",
       " 'glr',\n",
       " ';',\n",
       " 'kol',\n",
       " 'kta']"
      ]
     },
     "execution_count": 18,
     "metadata": {},
     "output_type": "execute_result"
    }
   ],
   "source": [
    "s=\"hyd bad ; sec bad   ; del hi; ban glr ; kol kta\"\n",
    "s.split()"
   ]
  },
  {
   "cell_type": "code",
   "execution_count": 22,
   "metadata": {},
   "outputs": [
    {
     "data": {
      "text/plain": [
       "'replace last two occurances of given source string with destiantion string preserve the delimeter after split '"
      ]
     },
     "execution_count": 22,
     "metadata": {},
     "output_type": "execute_result"
    }
   ],
   "source": [
    "\"replace last two occurances of given source string with destiantion string preserve the delimeter after split \""
   ]
  },
  {
   "cell_type": "code",
   "execution_count": 23,
   "metadata": {},
   "outputs": [
    {
     "name": "stdout",
     "output_type": "stream",
     "text": [
      "    user  name\n",
      "user  name\n"
     ]
    }
   ],
   "source": [
    "username = \"    user  name\"\n",
    "print(username)\n",
    "print username.strip()"
   ]
  },
  {
   "cell_type": "code",
   "execution_count": 25,
   "metadata": {},
   "outputs": [
    {
     "name": "stdout",
     "output_type": "stream",
     "text": [
      "    user  name\n"
     ]
    }
   ],
   "source": [
    "print username.strip('u')\n"
   ]
  },
  {
   "cell_type": "code",
   "execution_count": 28,
   "metadata": {},
   "outputs": [
    {
     "name": "stdout",
     "output_type": "stream",
     "text": [
      "%Uuser#$%%name\n",
      "#$%Uuser#$%%name\n",
      "%Uuser#$%%name#$\n"
     ]
    }
   ],
   "source": [
    "username = \"#$%Uuser#$%%name#$\"\n",
    "print username.strip('#$')\n",
    "print username.rstrip(\"#$\")\n",
    "print username.lstrip(\"#$\")"
   ]
  },
  {
   "cell_type": "code",
   "execution_count": 29,
   "metadata": {},
   "outputs": [],
   "source": []
  },
  {
   "cell_type": "code",
   "execution_count": null,
   "metadata": {},
   "outputs": [],
   "source": []
  }
 ],
 "metadata": {
  "kernelspec": {
   "display_name": "Python 2",
   "language": "python",
   "name": "python2"
  },
  "language_info": {
   "codemirror_mode": {
    "name": "ipython",
    "version": 2
   },
   "file_extension": ".py",
   "mimetype": "text/x-python",
   "name": "python",
   "nbconvert_exporter": "python",
   "pygments_lexer": "ipython2",
   "version": "2.7.15"
  }
 },
 "nbformat": 4,
 "nbformat_minor": 2
}
